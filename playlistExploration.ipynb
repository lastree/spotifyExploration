{
 "cells": [
  {
   "cell_type": "markdown",
   "metadata": {},
   "source": [
    "# Spotify \n",
    "\n",
    "Spotify es un servicio de música, podcasts y vídeos digitales en streaming que da acceso a millones de canciones y otros contenidos de artistas de todo el mundo.\n",
    "\n",
    "## Documentación necesaria \n",
    "\n",
    "Hay dos recursos de consulta que son elementales para la realización de esta práctica:\n",
    "\n",
    "* 1). *Documentación de la API de Spotify* donde poder comprobar las opciones de consulta disponibles. La documentación se encuentra aquí: <https://developer.spotify.com/documentation/web-api/reference/>\n",
    "\n",
    "* 2). *Documentación de librerías específicas en R* para el uso de la API de Spotify. En el repositorio principal de R se encuentran dos librerías con este propósito: ```Rspotify``` y ```spotifyr```. Para comprobar si están instaladas:"
   ]
  },
  {
   "cell_type": "code",
   "execution_count": 1,
   "metadata": {},
   "outputs": [
    {
     "data": {
      "text/html": [
       "FALSE"
      ],
      "text/latex": [
       "FALSE"
      ],
      "text/markdown": [
       "FALSE"
      ],
      "text/plain": [
       "[1] FALSE"
      ]
     },
     "metadata": {},
     "output_type": "display_data"
    },
    {
     "data": {
      "text/html": [
       "FALSE"
      ],
      "text/latex": [
       "FALSE"
      ],
      "text/markdown": [
       "FALSE"
      ],
      "text/plain": [
       "[1] FALSE"
      ]
     },
     "metadata": {},
     "output_type": "display_data"
    }
   ],
   "source": [
    "\"Rspotify\" %in% row.names(installed.packages())\n",
    "\"spotifyr\" %in% row.names(installed.packages())"
   ]
  },
  {
   "cell_type": "markdown",
   "metadata": {},
   "source": [
    "Aunque ambas son adecuadas para los propósitos de esta práctica, usaremos ```spotifyr```, un wrapper aún en desarrollo que se puede instalar desde el repositorio de su creador. [Aquí](https://www.rcharlie.com/spotifyr/reference/index.html) podéis encontrar la documentación de la librería. Esperemos que pronto vuelva a estar disponible en el `CRAN`.\n",
    "\n",
    "Comenzamos instalando y cargando la librería:"
   ]
  },
  {
   "cell_type": "code",
   "execution_count": 2,
   "metadata": {},
   "outputs": [
    {
     "name": "stderr",
     "output_type": "stream",
     "text": [
      "Downloading GitHub repo charlie86/spotifyr@master\n"
     ]
    },
    {
     "name": "stdout",
     "output_type": "stream",
     "text": [
      "\n",
      "\u001b[32m✔\u001b[39m  \u001b[90mchecking for file ‘/tmp/RtmpadCJsA/remotes1961eb5b2be/charlie86-spotifyr-1bc55d5/DESCRIPTION’\u001b[39m\u001b[36m\u001b[39m\n",
      "\u001b[90m─\u001b[39m\u001b[90m  \u001b[39m\u001b[90mpreparing ‘spotifyr’:\u001b[39m\u001b[36m\u001b[39m\n",
      "\u001b[32m✔\u001b[39m  \u001b[90mchecking DESCRIPTION meta-information\u001b[39m\u001b[36m\u001b[39m\n",
      "\u001b[90m─\u001b[39m\u001b[90m  \u001b[39m\u001b[90mchecking for LF line-endings in source and make files and shell scripts\u001b[39m\u001b[36m\u001b[39m\n",
      "\u001b[90m─\u001b[39m\u001b[90m  \u001b[39m\u001b[90mchecking for empty or unneeded directories\u001b[39m\u001b[36m\u001b[39m\n",
      "\u001b[90m─\u001b[39m\u001b[90m  \u001b[39m\u001b[90mbuilding ‘spotifyr_2.1.1.tar.gz’\u001b[39m\u001b[36m\u001b[39m\n",
      "   \n",
      "\r"
     ]
    }
   ],
   "source": [
    "devtools::install_github('charlie86/spotifyr')\n",
    "library(spotifyr)"
   ]
  },
  {
   "cell_type": "markdown",
   "metadata": {},
   "source": [
    "## Cuenta de Spotify\n",
    "\n",
    "Para usar la API de Spotify es necesario tener una **cuenta de usuario** (no importa si es con el plan gratuito o de pago) y un **client id**. \n",
    "\n",
    "Sigue los siguientes pasos para obtener la cuenta y el *client_id*:\n",
    "\n",
    "1. *Cuenta de usuario*: crea una cuenta, si aún no tienes una, o inicia sesión, en caso contrario. Puedes acceder a ambas posibilidades haciendo click [aquí](https://accounts.spotify.com/es-ES/login/?_locale=es-ES&continue=https:%2F%2Fwww.spotify.com%2Fes%2Faccount%2Foverview%2F).\n",
    "2. *Client id*: \n",
    "\n",
    "    - Con la sesión iniciada, puedes acceder a la sección dedicada a la comunidad de desarrolladores desde el _footer_ de la web o haciendo click [aquí](https://developer.spotify.com/?_ga=2.95562388.962042622.1571125786-840831842.1566985327&_gac=1.258283000.1571133034.Cj0KCQjw3JXtBRC8ARIsAEBHg4kCXay3_JIdYI15Xz8OjMkJvwVBWX32MbRS02z1VkqXmCGTHjudlL0aAvTKEALw_wcB).\n",
    "    - Para obtener un ```clientId```, necesitamos crear un _proyecto_. Podemos hacerlo desde la subsección [_Dashboards_](https://developer.spotify.com/dashboard/applications), haciendo click en ```CREATE A CLIENT ID```. \n",
    "\n",
    "## Autenticación\n",
    "\n",
    "Para comenzar a usar la API, Spotify solicitará un _token de acceso_. Nuestra librería proporciona una función para conseguir este _token_: ``. \n",
    "\n",
    "Para hacer la consulta, necesitaremos disponer del ``CLIENT_ID``y el ``SECRET_ID``, ambos disponibles en nuestra aplicación en el _Dashboard_ de _Spotify for developers_.\n"
   ]
  },
  {
   "cell_type": "code",
   "execution_count": 3,
   "metadata": {},
   "outputs": [],
   "source": [
    "my_client_id <- ???????????????\n",
    "my_client_secret <- ????????????????\n",
    "\n",
    "token <- get_spotify_access_token(client_id = my_client_id,\n",
    "                                  client_secret = my_client_secret)"
   ]
  },
  {
   "cell_type": "markdown",
   "metadata": {},
   "source": [
    "Con nuestro _token_ ya estaríamos en condiciones de hacer las consultas a la API de Spotify con la librería ``spotifyr``. Para comprobar que todo ha ido bien, vamos a hacer una consulta de prueba: vamos a simular una búsqueda del artista **Queen** en el buscador de Spotify:"
   ]
  },
  {
   "cell_type": "code",
   "execution_count": 18,
   "metadata": {},
   "outputs": [
    {
     "name": "stdout",
     "output_type": "stream",
     "text": [
      " [1] \"Queen\"                         \"Queen Naija\"                  \n",
      " [3] \"Queens of the Stone Age\"       \"Beyoncé\"                      \n",
      " [5] \"Queendome Come\"                \"Queen Pen\"                    \n",
      " [7] \"Queen Latifah\"                 \"Queensrÿche\"                  \n",
      " [9] \"Queen Key\"                     \"QUEEN BEE\"                    \n",
      "[11] \"Queen Boss King Records\"       \"Ivy Queen\"                    \n",
      "[13] \"Queen Ifrica\"                  \"Queen of Apostles\"            \n",
      "[15] \"Queensland Symphony Orchestra\" \"Queena Cui\"                   \n",
      "[17] \"Queen Deusah\"                  \"Queen Chrysalis\"              \n",
      "[19] \"Queen Dominique\"               \"Queen Kenzie\"                 \n"
     ]
    }
   ],
   "source": [
    "result <- search_spotify(\"Queen\", type = \"artist\", authorization = token)\n",
    "print(result$name)"
   ]
  },
  {
   "cell_type": "markdown",
   "metadata": {},
   "source": [
    "# Actividades\n",
    "\n",
    "## Exploración de una playlist\n",
    "\n",
    "Navega por la versión web del reproductor ojeando las distintas listas de reproducción. Elige una de ellas y selecciónala. En la barra del navegador, aparecerá una dirección del tipo:\n",
    "\n",
    "> ```https://open.spotify.com/playlist/{XXXXXXXXXXXXXXXXXXXXX}```\n",
    "\n",
    "Selecciona el identificador alfanumérico que aparece al final de la dirección y guárdalo en un objeto de tu sesión de R. Por ejemplo, la lista *Top 50 de España*, tiene por identificador ```37i9dQZEVXbNFJfN1Vw8d9```.\n",
    "\n",
    "Haz una consulta a la API para extraer la información de la lista de reproducción seleccionada y responde a las siguientes preguntas:\n",
    "\n",
    "1. ¿Qué tipo de objeto devuelve la consulta? Descríbelo brevemente. \n",
    "2. ¿Cuántos seguidores tiene?\n",
    "3. A partir de la información obtenida, crea un dataframe con las siguientes columnas: \n",
    "\n",
    "|id   | nombre   |  artista | album   | popularidad   |\n",
    "|---|---|---|---|---|\n",
    "|   |   |   |   |   |\n",
    "\n",
    "donde:\n",
    "\n",
    "- **id**: identificador de la canción.\n",
    "- **nombre**: nombre de la canción.\n",
    "- **artista**: artista/-s que interpreta/-n la canción. \n",
    "- **album**: tipo de álbum al que pertenece la canción.\n",
    "- **popularidad**: popularidad de la canción (métrica calculada por Spotify). \n",
    "    - Consulta en la documentación de la API de Spotify lo que representa esta métrica.\n",
    "\n",
    "### Respuestas\n",
    "\n",
    "#### Objeto devuelto\n",
    "La consulta nos devuelve una lista de 15 elementos cuyos nombres son:   "
   ]
  },
  {
   "cell_type": "code",
   "execution_count": 19,
   "metadata": {},
   "outputs": [
    {
     "name": "stdout",
     "output_type": "stream",
     "text": [
      " [1] \"collaborative\" \"description\"   \"external_urls\" \"followers\"    \n",
      " [5] \"href\"          \"id\"            \"images\"        \"name\"         \n",
      " [9] \"owner\"         \"primary_color\" \"public\"        \"snapshot_id\"  \n",
      "[13] \"tracks\"        \"type\"          \"uri\"          \n"
     ]
    }
   ],
   "source": [
    "pl <- get_playlist(\"37i9dQZEVXbNFJfN1Vw8d9\", authorization = token)\n",
    "print(names(pl))"
   ]
  },
  {
   "cell_type": "markdown",
   "metadata": {},
   "source": [
    "Para ver la descripción de cada elemento, se puede consultar la descripción del objeto playlist que se recoge en la documentación de la API en este [enlace](https://developer.spotify.com/documentation/web-api/reference/playlists/get-playlist/). \n",
    "\n",
    "Cabe destacar el elemento ```tracks```, que es el que contiene toda la información relativa a las canciones:"
   ]
  },
  {
   "cell_type": "code",
   "execution_count": 6,
   "metadata": {},
   "outputs": [
    {
     "data": {
      "text/html": [
       "'list'"
      ],
      "text/latex": [
       "'list'"
      ],
      "text/markdown": [
       "'list'"
      ],
      "text/plain": [
       "[1] \"list\""
      ]
     },
     "metadata": {},
     "output_type": "display_data"
    },
    {
     "data": {
      "text/html": [
       "7"
      ],
      "text/latex": [
       "7"
      ],
      "text/markdown": [
       "7"
      ],
      "text/plain": [
       "[1] 7"
      ]
     },
     "metadata": {},
     "output_type": "display_data"
    },
    {
     "data": {
      "text/html": [
       "<ol class=list-inline>\n",
       "\t<li>'href'</li>\n",
       "\t<li>'items'</li>\n",
       "\t<li>'limit'</li>\n",
       "\t<li>'next'</li>\n",
       "\t<li>'offset'</li>\n",
       "\t<li>'previous'</li>\n",
       "\t<li>'total'</li>\n",
       "</ol>\n"
      ],
      "text/latex": [
       "\\begin{enumerate*}\n",
       "\\item 'href'\n",
       "\\item 'items'\n",
       "\\item 'limit'\n",
       "\\item 'next'\n",
       "\\item 'offset'\n",
       "\\item 'previous'\n",
       "\\item 'total'\n",
       "\\end{enumerate*}\n"
      ],
      "text/markdown": [
       "1. 'href'\n",
       "2. 'items'\n",
       "3. 'limit'\n",
       "4. 'next'\n",
       "5. 'offset'\n",
       "6. 'previous'\n",
       "7. 'total'\n",
       "\n",
       "\n"
      ],
      "text/plain": [
       "[1] \"href\"     \"items\"    \"limit\"    \"next\"     \"offset\"   \"previous\" \"total\"   "
      ]
     },
     "metadata": {},
     "output_type": "display_data"
    }
   ],
   "source": [
    "class(pl$tracks)\n",
    "length(pl$tracks)\n",
    "names(pl$tracks)"
   ]
  },
  {
   "cell_type": "markdown",
   "metadata": {},
   "source": [
    "Es decir, el elemento ```tracks``` es a su vez una lista formada por 7 elementos. Uno de ellos es ```items```, que es el que contiene información directa sobre las canciones (identificador, título, artistas, etc).\n",
    "\n",
    "#### Seguidores\n",
    "El número de seguidores de la lista de reproducción que hemos elegido está contenido directamente en el elemento ```followers``` del objeto que nos hemos descargado:"
   ]
  },
  {
   "cell_type": "code",
   "execution_count": 7,
   "metadata": {},
   "outputs": [
    {
     "data": {
      "text/html": [
       "<dl>\n",
       "\t<dt>$href</dt>\n",
       "\t\t<dd>NULL</dd>\n",
       "\t<dt>$total</dt>\n",
       "\t\t<dd>1259341</dd>\n",
       "</dl>\n"
      ],
      "text/latex": [
       "\\begin{description}\n",
       "\\item[\\$href] NULL\n",
       "\\item[\\$total] 1259341\n",
       "\\end{description}\n"
      ],
      "text/markdown": [
       "$href\n",
       ":   NULL\n",
       "$total\n",
       ":   1259341\n",
       "\n",
       "\n"
      ],
      "text/plain": [
       "$href\n",
       "NULL\n",
       "\n",
       "$total\n",
       "[1] 1259341\n"
      ]
     },
     "metadata": {},
     "output_type": "display_data"
    }
   ],
   "source": [
    "pl$followers"
   ]
  },
  {
   "cell_type": "markdown",
   "metadata": {},
   "source": [
    "#### Dataframe de canciones\n",
    "\n",
    "Para crear el dataframe de canciones comenzaremos localizando, en la jerarquía del objeto ```pl```, la información que se solicita:\n",
    "\n",
    "| Columna  | Elemento de la jerarquía de ```pl``` | Tipo  |\n",
    "|---|---|---|\n",
    "| id|  ```pl$tracks$items$track.id``` | vector  |\n",
    "| nombre |  ```pl$tracks$items$track.name``` |  vector |\n",
    "| artista  | ```pl$tracks$items$track.artists```  | lista  |\n",
    "| album  | ```pl$trakcs$items$track.album.album_type```  |  vector |\n",
    "| popularidad  | ```pl$tracks$items$track.popularity```  |   vector |\n",
    "\n",
    "Para contruir nuestro dataframe, necesitamos que todas las columnas sean vectores, de modo que tendremos que transformar la lista con la información de artistas en un vector antes de crear el dataframe. Exploramos el primer elemento de la lista para ver la estructura que tiene:"
   ]
  },
  {
   "cell_type": "code",
   "execution_count": 8,
   "metadata": {},
   "outputs": [
    {
     "data": {
      "text/html": [
       "<table>\n",
       "<caption>A data.frame: 2 × 6</caption>\n",
       "<thead>\n",
       "\t<tr><th scope=col>href</th><th scope=col>id</th><th scope=col>name</th><th scope=col>type</th><th scope=col>uri</th><th scope=col>external_urls.spotify</th></tr>\n",
       "\t<tr><th scope=col>&lt;chr&gt;</th><th scope=col>&lt;chr&gt;</th><th scope=col>&lt;chr&gt;</th><th scope=col>&lt;chr&gt;</th><th scope=col>&lt;chr&gt;</th><th scope=col>&lt;chr&gt;</th></tr>\n",
       "</thead>\n",
       "<tbody>\n",
       "\t<tr><td>https://api.spotify.com/v1/artists/4q3ewBCX7sLwd24euuV69X</td><td>4q3ewBCX7sLwd24euuV69X</td><td>Bad Bunny  </td><td>artist</td><td>spotify:artist:4q3ewBCX7sLwd24euuV69X</td><td>https://open.spotify.com/artist/4q3ewBCX7sLwd24euuV69X</td></tr>\n",
       "\t<tr><td>https://api.spotify.com/v1/artists/0EFisYRi20PTADoJrifHrz</td><td>0EFisYRi20PTADoJrifHrz</td><td>Jhay Cortez</td><td>artist</td><td>spotify:artist:0EFisYRi20PTADoJrifHrz</td><td>https://open.spotify.com/artist/0EFisYRi20PTADoJrifHrz</td></tr>\n",
       "</tbody>\n",
       "</table>\n"
      ],
      "text/latex": [
       "A data.frame: 2 × 6\n",
       "\\begin{tabular}{r|llllll}\n",
       " href & id & name & type & uri & external\\_urls.spotify\\\\\n",
       " <chr> & <chr> & <chr> & <chr> & <chr> & <chr>\\\\\n",
       "\\hline\n",
       "\t https://api.spotify.com/v1/artists/4q3ewBCX7sLwd24euuV69X & 4q3ewBCX7sLwd24euuV69X & Bad Bunny   & artist & spotify:artist:4q3ewBCX7sLwd24euuV69X & https://open.spotify.com/artist/4q3ewBCX7sLwd24euuV69X\\\\\n",
       "\t https://api.spotify.com/v1/artists/0EFisYRi20PTADoJrifHrz & 0EFisYRi20PTADoJrifHrz & Jhay Cortez & artist & spotify:artist:0EFisYRi20PTADoJrifHrz & https://open.spotify.com/artist/0EFisYRi20PTADoJrifHrz\\\\\n",
       "\\end{tabular}\n"
      ],
      "text/markdown": [
       "\n",
       "A data.frame: 2 × 6\n",
       "\n",
       "| href &lt;chr&gt; | id &lt;chr&gt; | name &lt;chr&gt; | type &lt;chr&gt; | uri &lt;chr&gt; | external_urls.spotify &lt;chr&gt; |\n",
       "|---|---|---|---|---|---|\n",
       "| https://api.spotify.com/v1/artists/4q3ewBCX7sLwd24euuV69X | 4q3ewBCX7sLwd24euuV69X | Bad Bunny   | artist | spotify:artist:4q3ewBCX7sLwd24euuV69X | https://open.spotify.com/artist/4q3ewBCX7sLwd24euuV69X |\n",
       "| https://api.spotify.com/v1/artists/0EFisYRi20PTADoJrifHrz | 0EFisYRi20PTADoJrifHrz | Jhay Cortez | artist | spotify:artist:0EFisYRi20PTADoJrifHrz | https://open.spotify.com/artist/0EFisYRi20PTADoJrifHrz |\n",
       "\n"
      ],
      "text/plain": [
       "  href                                                     \n",
       "1 https://api.spotify.com/v1/artists/4q3ewBCX7sLwd24euuV69X\n",
       "2 https://api.spotify.com/v1/artists/0EFisYRi20PTADoJrifHrz\n",
       "  id                     name        type  \n",
       "1 4q3ewBCX7sLwd24euuV69X Bad Bunny   artist\n",
       "2 0EFisYRi20PTADoJrifHrz Jhay Cortez artist\n",
       "  uri                                  \n",
       "1 spotify:artist:4q3ewBCX7sLwd24euuV69X\n",
       "2 spotify:artist:0EFisYRi20PTADoJrifHrz\n",
       "  external_urls.spotify                                 \n",
       "1 https://open.spotify.com/artist/4q3ewBCX7sLwd24euuV69X\n",
       "2 https://open.spotify.com/artist/0EFisYRi20PTADoJrifHrz"
      ]
     },
     "metadata": {},
     "output_type": "display_data"
    }
   ],
   "source": [
    "artista_track1 <- pl$tracks$items$track.artists[[1]]\n",
    "artista_track1"
   ]
  },
  {
   "cell_type": "markdown",
   "metadata": {},
   "source": [
    "Se trata de un dataframe donde cada fila contiene información de uno de los artistas de la canción correspondiente. Es decir, la primera canción de nuestra lista tiene 2 artistas asociados. \n",
    "\n",
    "Necesitamos \"unificar\" los nombres de todos los artistas de la canción en un único elemento. Para ello, usaremos la función ```paste``` que de forma sencilla nos permite pegar todos los elementos de un vector en un único elemento utilizando el separador que queramos:"
   ]
  },
  {
   "cell_type": "code",
   "execution_count": 20,
   "metadata": {},
   "outputs": [
    {
     "name": "stdout",
     "output_type": "stream",
     "text": [
      "[1] \"Bad Bunny, Jhay Cortez\"\n"
     ]
    }
   ],
   "source": [
    "art_track1 <- paste(artista_track1$name, collapse = \", \")\n",
    "print(art_track1)"
   ]
  },
  {
   "cell_type": "markdown",
   "metadata": {},
   "source": [
    "Ahora debemos hacer lo mismo para el resto de elementos de la lista de canciones. Lo haremos en dos pasos usando la función ``sapply``: \n",
    "\n",
    "1. Primero la utilizaremos para extraer la componente ``name`` de cada elemento de la lista de artistas de canciones, que nos devolverá un vector donde cada componente contendrá el nombre de los cantantes de esa canción:"
   ]
  },
  {
   "cell_type": "code",
   "execution_count": 22,
   "metadata": {},
   "outputs": [
    {
     "name": "stdout",
     "output_type": "stream",
     "text": [
      "[1] \"Bad Bunny\"   \"Jhay Cortez\"\n"
     ]
    }
   ],
   "source": [
    "list.nombres <- sapply(pl$tracks$items$track.artists, \"[[\", \"name\")\n",
    "print(list.nombres[[1]])"
   ]
  },
  {
   "cell_type": "markdown",
   "metadata": {},
   "source": [
    "2. Después, la utilizaremos con la función ``paste`` para construir un vector donde cada elemento sea el resultado de separar por comas la colección de nombres de cada elemento de ``list.nombres``. "
   ]
  },
  {
   "cell_type": "code",
   "execution_count": 23,
   "metadata": {},
   "outputs": [
    {
     "name": "stdout",
     "output_type": "stream",
     "text": [
      " [1] \"Bad Bunny, Jhay Cortez\"                    \n",
      " [2] \"C. Tangana, Niño de Elche, La Húngara\"     \n",
      " [3] \"Manuel Turizo, Rauw Alejandro, Myke Towers\"\n",
      " [4] \"Paris Boy\"                                 \n",
      " [5] \"C. Tangana\"                                \n",
      " [6] \"KAROL G\"                                   \n",
      " [7] \"Wisin, Myke Towers, Los Legendarios\"       \n",
      " [8] \"Ana Mena, Rocco Hunt\"                      \n",
      " [9] \"Sech, J Balvin\"                            \n",
      "[10] \"Ozuna, J Balvin, Chencho Corleone\"         \n"
     ]
    }
   ],
   "source": [
    "nombres <- sapply(list.nombres, paste, collapse=\", \")\n",
    "print(nombres[1:10])"
   ]
  },
  {
   "cell_type": "markdown",
   "metadata": {},
   "source": [
    "Finalmente, el dataframe que solicitado resulta:"
   ]
  },
  {
   "cell_type": "code",
   "execution_count": 25,
   "metadata": {},
   "outputs": [
    {
     "data": {
      "text/html": [
       "<table>\n",
       "<caption>A data.frame: 6 × 5</caption>\n",
       "<thead>\n",
       "\t<tr><th scope=col>id</th><th scope=col>nombre</th><th scope=col>artista</th><th scope=col>album</th><th scope=col>popularidad</th></tr>\n",
       "\t<tr><th scope=col>&lt;fct&gt;</th><th scope=col>&lt;fct&gt;</th><th scope=col>&lt;fct&gt;</th><th scope=col>&lt;fct&gt;</th><th scope=col>&lt;int&gt;</th></tr>\n",
       "</thead>\n",
       "<tbody>\n",
       "\t<tr><td>47EiUVwUp4C9fGccaPuUCS</td><td>Dakiti                                                    </td><td>Bad Bunny, Jhay Cortez                    </td><td>single</td><td>99</td></tr>\n",
       "\t<tr><td>0XinBYhf1X3kdvKQHOX971</td><td>Tú Me Dejaste De Querer (feat. Niño de Elche &amp; La Hungara)</td><td><span style=white-space:pre-wrap>C. Tangana, Niño de Elche, La Húngara     </span></td><td>single</td><td>86</td></tr>\n",
       "\t<tr><td>7ndTONDDRFGiPnnhOzOXxq</td><td>La Nota                                                   </td><td>Manuel Turizo, Rauw Alejandro, Myke Towers</td><td>single</td><td>92</td></tr>\n",
       "\t<tr><td>2aQJOc2QUTdQl1J2Z9VxYO</td><td>Problemas                                                 </td><td>Paris Boy                                 </td><td>single</td><td>79</td></tr>\n",
       "\t<tr><td>2iUz95Osgl4fFZbNJ0xuoD</td><td>Demasiadas Mujeres                                        </td><td>C. Tangana                                </td><td>single</td><td>82</td></tr>\n",
       "\t<tr><td>7vrJn5hDSXRmdXoR30KgF1</td><td>BICHOTA                                                   </td><td>KAROL G                                   </td><td>single</td><td>90</td></tr>\n",
       "</tbody>\n",
       "</table>\n"
      ],
      "text/latex": [
       "A data.frame: 6 × 5\n",
       "\\begin{tabular}{r|lllll}\n",
       " id & nombre & artista & album & popularidad\\\\\n",
       " <fct> & <fct> & <fct> & <fct> & <int>\\\\\n",
       "\\hline\n",
       "\t 47EiUVwUp4C9fGccaPuUCS & Dakiti                                                     & Bad Bunny, Jhay Cortez                     & single & 99\\\\\n",
       "\t 0XinBYhf1X3kdvKQHOX971 & Tú Me Dejaste De Querer (feat. Niño de Elche \\& La Hungara) & C. Tangana, Niño de Elche, La Húngara      & single & 86\\\\\n",
       "\t 7ndTONDDRFGiPnnhOzOXxq & La Nota                                                    & Manuel Turizo, Rauw Alejandro, Myke Towers & single & 92\\\\\n",
       "\t 2aQJOc2QUTdQl1J2Z9VxYO & Problemas                                                  & Paris Boy                                  & single & 79\\\\\n",
       "\t 2iUz95Osgl4fFZbNJ0xuoD & Demasiadas Mujeres                                         & C. Tangana                                 & single & 82\\\\\n",
       "\t 7vrJn5hDSXRmdXoR30KgF1 & BICHOTA                                                    & KAROL G                                    & single & 90\\\\\n",
       "\\end{tabular}\n"
      ],
      "text/markdown": [
       "\n",
       "A data.frame: 6 × 5\n",
       "\n",
       "| id &lt;fct&gt; | nombre &lt;fct&gt; | artista &lt;fct&gt; | album &lt;fct&gt; | popularidad &lt;int&gt; |\n",
       "|---|---|---|---|---|\n",
       "| 47EiUVwUp4C9fGccaPuUCS | Dakiti                                                     | Bad Bunny, Jhay Cortez                     | single | 99 |\n",
       "| 0XinBYhf1X3kdvKQHOX971 | Tú Me Dejaste De Querer (feat. Niño de Elche &amp; La Hungara) | C. Tangana, Niño de Elche, La Húngara      | single | 86 |\n",
       "| 7ndTONDDRFGiPnnhOzOXxq | La Nota                                                    | Manuel Turizo, Rauw Alejandro, Myke Towers | single | 92 |\n",
       "| 2aQJOc2QUTdQl1J2Z9VxYO | Problemas                                                  | Paris Boy                                  | single | 79 |\n",
       "| 2iUz95Osgl4fFZbNJ0xuoD | Demasiadas Mujeres                                         | C. Tangana                                 | single | 82 |\n",
       "| 7vrJn5hDSXRmdXoR30KgF1 | BICHOTA                                                    | KAROL G                                    | single | 90 |\n",
       "\n"
      ],
      "text/plain": [
       "  id                    \n",
       "1 47EiUVwUp4C9fGccaPuUCS\n",
       "2 0XinBYhf1X3kdvKQHOX971\n",
       "3 7ndTONDDRFGiPnnhOzOXxq\n",
       "4 2aQJOc2QUTdQl1J2Z9VxYO\n",
       "5 2iUz95Osgl4fFZbNJ0xuoD\n",
       "6 7vrJn5hDSXRmdXoR30KgF1\n",
       "  nombre                                                    \n",
       "1 Dakiti                                                    \n",
       "2 Tú Me Dejaste De Querer (feat. Niño de Elche & La Hungara)\n",
       "3 La Nota                                                   \n",
       "4 Problemas                                                 \n",
       "5 Demasiadas Mujeres                                        \n",
       "6 BICHOTA                                                   \n",
       "  artista                                    album  popularidad\n",
       "1 Bad Bunny, Jhay Cortez                     single 99         \n",
       "2 C. Tangana, Niño de Elche, La Húngara      single 86         \n",
       "3 Manuel Turizo, Rauw Alejandro, Myke Towers single 92         \n",
       "4 Paris Boy                                  single 79         \n",
       "5 C. Tangana                                 single 82         \n",
       "6 KAROL G                                    single 90         "
      ]
     },
     "metadata": {},
     "output_type": "display_data"
    }
   ],
   "source": [
    "df_canciones <- data.frame(id = pl$tracks$items$track.id,\n",
    "                           nombre = pl$tracks$items$track.name,\n",
    "                           artista = nombres,\n",
    "                           album = pl$tracks$items$track.album.album_type,\n",
    "                           popularidad = pl$tracks$items$track.popularity)\n",
    "head(df_canciones)"
   ]
  },
  {
   "cell_type": "markdown",
   "metadata": {},
   "source": [
    "## Exploración de canciones\n",
    "\n",
    "Spotify permite obtener distintas características de las canciones. Puede resultar de interés explorar las métricas que ellos mismos asocian a las canciones y sobre las que basarán, en parte, su algoritmo de recomendación.  Utiliza la API para extraer información de las canciones que conforman tu dataframe y responde a las siguientes preguntas:\n",
    "\n",
    "1. ¿Cuál es la media del índice de bailabilidad (```danceability```) de tu lista? ¿Y del índice de positividad (```valence```)?\n",
    "2. ¿Cuál es el título de la canción con la energía (```energy```) más baja de tu lista?\n",
    "3. Supongamos que una canción es acústica si la métrica de acústica asociada es mayor que $0.7$. ¿De cuántas canciones acústicas se compone tu lista?\n",
    "4. Compara visualmente la popularidad de las canciones de tu lista con otras métricas (```danceability```, ```energy```, etc). ¿Se observa algo destacable?"
   ]
  },
  {
   "cell_type": "markdown",
   "metadata": {},
   "source": [
    "## Librería ``httr``\n",
    "\n",
    "1. Reescribe las dos consultas de los ejercicios anteriores usando la librería ```httr```.\n",
    "\n",
    "**Pista**. la consulta será de la forma: \n",
    "\n",
    "> ``` GET(url_que_tienes_que_averiguar,  config = add_headers(authorization = paste(\"Bearer\", token)))```\n"
   ]
  }
 ],
 "metadata": {
  "kernelspec": {
   "display_name": "R",
   "language": "R",
   "name": "ir"
  },
  "language_info": {
   "codemirror_mode": "r",
   "file_extension": ".r",
   "mimetype": "text/x-r-source",
   "name": "R",
   "pygments_lexer": "r",
   "version": "3.6.1"
  }
 },
 "nbformat": 4,
 "nbformat_minor": 2
}
